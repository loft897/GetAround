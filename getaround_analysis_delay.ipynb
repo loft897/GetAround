{
 "cells": [
  {
   "cell_type": "code",
   "execution_count": 56,
   "metadata": {},
   "outputs": [
    {
     "data": {
      "text/html": [
       "        <script type=\"text/javascript\">\n",
       "        window.PlotlyConfig = {MathJaxConfig: 'local'};\n",
       "        if (window.MathJax && window.MathJax.Hub && window.MathJax.Hub.Config) {window.MathJax.Hub.Config({SVG: {font: \"STIX-Web\"}});}\n",
       "        if (typeof require !== 'undefined') {\n",
       "        require.undef(\"plotly\");\n",
       "        requirejs.config({\n",
       "            paths: {\n",
       "                'plotly': ['https://cdn.plot.ly/plotly-2.20.0.min']\n",
       "            }\n",
       "        });\n",
       "        require(['plotly'], function(Plotly) {\n",
       "            window._Plotly = Plotly;\n",
       "        });\n",
       "        }\n",
       "        </script>\n",
       "        "
      ]
     },
     "metadata": {},
     "output_type": "display_data"
    }
   ],
   "source": [
    "import pandas as pd\n",
    "import numpy as np\n",
    "\n",
    "import seaborn as sns\n",
    "pal = sns.color_palette()\n",
    "\n",
    "import plotly.express as px\n",
    "import plotly.offline as py\n",
    "py.init_notebook_mode(connected=True)\n",
    "import plotly.graph_objects as go\n",
    "import openpyxl\n",
    "import plotly.io as pio\n",
    "pio.renderers.default = \"vscode\"\n",
    "\n",
    "import matplotlib as mpl\n",
    "import matplotlib.pyplot as plt\n",
    "plt.rcParams[\"patch.force_edgecolor\"] = True\n",
    "plt.style.use('fivethirtyeight')\n",
    "\n",
    "from IPython.display import display\n",
    "mpl.rc('patch', edgecolor = 'dimgray', linewidth=1)\n",
    "from IPython.core.interactiveshell import InteractiveShell\n",
    "InteractiveShell.ast_node_interactivity = \"last_expr\"\n",
    "pd.options.display.max_columns = 50\n",
    "%matplotlib inline\n",
    "import warnings\n",
    "warnings.filterwarnings(\"ignore\", category=DeprecationWarning) # to avoid deprecation warnings"
   ]
  },
  {
   "attachments": {},
   "cell_type": "markdown",
   "metadata": {},
   "source": [
    " # FILE READING, DATA CLEANING AND ANALYSIS ON PRICING"
   ]
  },
  {
   "cell_type": "code",
   "execution_count": 75,
   "metadata": {},
   "outputs": [
    {
     "name": "stdout",
     "output_type": "stream",
     "text": [
      "Loading dataset...\n",
      "...Done.\n"
     ]
    }
   ],
   "source": [
    "# Import dataset\n",
    "print(\"Loading dataset...\")\n",
    "\n",
    "docu =  pd.read_excel('assets/get_around_delay_analysis.xlsx',sheet_name='Documentation')\n",
    "delay_df = pd.read_excel('assets/get_around_delay_analysis.xlsx',sheet_name='rentals_data')\n",
    "pricing_df = pd.read_csv('assets/get_around_pricing_project.csv')\n",
    "print(\"...Done.\")\n",
    "pd.set_option('display.max_columns', None)"
   ]
  },
  {
   "cell_type": "code",
   "execution_count": 58,
   "metadata": {},
   "outputs": [
    {
     "name": "stdout",
     "output_type": "stream",
     "text": [
      "Basics informations for delay_df\n",
      "\n",
      "Number of rows : 21310\n",
      "Number of columns : 7\n",
      "\n",
      "Display of dataset: \n"
     ]
    },
    {
     "data": {
      "text/html": [
       "<div>\n",
       "<style scoped>\n",
       "    .dataframe tbody tr th:only-of-type {\n",
       "        vertical-align: middle;\n",
       "    }\n",
       "\n",
       "    .dataframe tbody tr th {\n",
       "        vertical-align: top;\n",
       "    }\n",
       "\n",
       "    .dataframe thead th {\n",
       "        text-align: right;\n",
       "    }\n",
       "</style>\n",
       "<table border=\"1\" class=\"dataframe\">\n",
       "  <thead>\n",
       "    <tr style=\"text-align: right;\">\n",
       "      <th></th>\n",
       "      <th>rental_id</th>\n",
       "      <th>car_id</th>\n",
       "      <th>checkin_type</th>\n",
       "      <th>state</th>\n",
       "      <th>delay_at_checkout_in_minutes</th>\n",
       "      <th>previous_ended_rental_id</th>\n",
       "      <th>time_delta_with_previous_rental_in_minutes</th>\n",
       "    </tr>\n",
       "  </thead>\n",
       "  <tbody>\n",
       "    <tr>\n",
       "      <th>0</th>\n",
       "      <td>505000</td>\n",
       "      <td>363965</td>\n",
       "      <td>mobile</td>\n",
       "      <td>canceled</td>\n",
       "      <td>NaN</td>\n",
       "      <td>NaN</td>\n",
       "      <td>NaN</td>\n",
       "    </tr>\n",
       "    <tr>\n",
       "      <th>1</th>\n",
       "      <td>507750</td>\n",
       "      <td>269550</td>\n",
       "      <td>mobile</td>\n",
       "      <td>ended</td>\n",
       "      <td>-81.0</td>\n",
       "      <td>NaN</td>\n",
       "      <td>NaN</td>\n",
       "    </tr>\n",
       "    <tr>\n",
       "      <th>2</th>\n",
       "      <td>508131</td>\n",
       "      <td>359049</td>\n",
       "      <td>connect</td>\n",
       "      <td>ended</td>\n",
       "      <td>70.0</td>\n",
       "      <td>NaN</td>\n",
       "      <td>NaN</td>\n",
       "    </tr>\n",
       "    <tr>\n",
       "      <th>3</th>\n",
       "      <td>508865</td>\n",
       "      <td>299063</td>\n",
       "      <td>connect</td>\n",
       "      <td>canceled</td>\n",
       "      <td>NaN</td>\n",
       "      <td>NaN</td>\n",
       "      <td>NaN</td>\n",
       "    </tr>\n",
       "    <tr>\n",
       "      <th>4</th>\n",
       "      <td>511440</td>\n",
       "      <td>313932</td>\n",
       "      <td>mobile</td>\n",
       "      <td>ended</td>\n",
       "      <td>NaN</td>\n",
       "      <td>NaN</td>\n",
       "      <td>NaN</td>\n",
       "    </tr>\n",
       "  </tbody>\n",
       "</table>\n",
       "</div>"
      ],
      "text/plain": [
       "   rental_id  car_id checkin_type     state  delay_at_checkout_in_minutes   \n",
       "0     505000  363965       mobile  canceled                           NaN  \\\n",
       "1     507750  269550       mobile     ended                         -81.0   \n",
       "2     508131  359049      connect     ended                          70.0   \n",
       "3     508865  299063      connect  canceled                           NaN   \n",
       "4     511440  313932       mobile     ended                           NaN   \n",
       "\n",
       "   previous_ended_rental_id  time_delta_with_previous_rental_in_minutes  \n",
       "0                       NaN                                         NaN  \n",
       "1                       NaN                                         NaN  \n",
       "2                       NaN                                         NaN  \n",
       "3                       NaN                                         NaN  \n",
       "4                       NaN                                         NaN  "
      ]
     },
     "metadata": {},
     "output_type": "display_data"
    },
    {
     "name": "stdout",
     "output_type": "stream",
     "text": [
      "\n",
      "Basics statistics: \n"
     ]
    },
    {
     "data": {
      "text/html": [
       "<div>\n",
       "<style scoped>\n",
       "    .dataframe tbody tr th:only-of-type {\n",
       "        vertical-align: middle;\n",
       "    }\n",
       "\n",
       "    .dataframe tbody tr th {\n",
       "        vertical-align: top;\n",
       "    }\n",
       "\n",
       "    .dataframe thead th {\n",
       "        text-align: right;\n",
       "    }\n",
       "</style>\n",
       "<table border=\"1\" class=\"dataframe\">\n",
       "  <thead>\n",
       "    <tr style=\"text-align: right;\">\n",
       "      <th></th>\n",
       "      <th>rental_id</th>\n",
       "      <th>car_id</th>\n",
       "      <th>checkin_type</th>\n",
       "      <th>state</th>\n",
       "      <th>delay_at_checkout_in_minutes</th>\n",
       "      <th>previous_ended_rental_id</th>\n",
       "      <th>time_delta_with_previous_rental_in_minutes</th>\n",
       "    </tr>\n",
       "  </thead>\n",
       "  <tbody>\n",
       "    <tr>\n",
       "      <th>count</th>\n",
       "      <td>21310.000000</td>\n",
       "      <td>21310.000000</td>\n",
       "      <td>21310</td>\n",
       "      <td>21310</td>\n",
       "      <td>16346.000000</td>\n",
       "      <td>1841.000000</td>\n",
       "      <td>1841.000000</td>\n",
       "    </tr>\n",
       "    <tr>\n",
       "      <th>unique</th>\n",
       "      <td>NaN</td>\n",
       "      <td>NaN</td>\n",
       "      <td>2</td>\n",
       "      <td>2</td>\n",
       "      <td>NaN</td>\n",
       "      <td>NaN</td>\n",
       "      <td>NaN</td>\n",
       "    </tr>\n",
       "    <tr>\n",
       "      <th>top</th>\n",
       "      <td>NaN</td>\n",
       "      <td>NaN</td>\n",
       "      <td>mobile</td>\n",
       "      <td>ended</td>\n",
       "      <td>NaN</td>\n",
       "      <td>NaN</td>\n",
       "      <td>NaN</td>\n",
       "    </tr>\n",
       "    <tr>\n",
       "      <th>freq</th>\n",
       "      <td>NaN</td>\n",
       "      <td>NaN</td>\n",
       "      <td>17003</td>\n",
       "      <td>18045</td>\n",
       "      <td>NaN</td>\n",
       "      <td>NaN</td>\n",
       "      <td>NaN</td>\n",
       "    </tr>\n",
       "    <tr>\n",
       "      <th>mean</th>\n",
       "      <td>549712.880338</td>\n",
       "      <td>350030.603426</td>\n",
       "      <td>NaN</td>\n",
       "      <td>NaN</td>\n",
       "      <td>59.701517</td>\n",
       "      <td>550127.411733</td>\n",
       "      <td>279.288430</td>\n",
       "    </tr>\n",
       "    <tr>\n",
       "      <th>std</th>\n",
       "      <td>13863.446964</td>\n",
       "      <td>58206.249765</td>\n",
       "      <td>NaN</td>\n",
       "      <td>NaN</td>\n",
       "      <td>1002.561635</td>\n",
       "      <td>13184.023111</td>\n",
       "      <td>254.594486</td>\n",
       "    </tr>\n",
       "    <tr>\n",
       "      <th>min</th>\n",
       "      <td>504806.000000</td>\n",
       "      <td>159250.000000</td>\n",
       "      <td>NaN</td>\n",
       "      <td>NaN</td>\n",
       "      <td>-22433.000000</td>\n",
       "      <td>505628.000000</td>\n",
       "      <td>0.000000</td>\n",
       "    </tr>\n",
       "    <tr>\n",
       "      <th>25%</th>\n",
       "      <td>540613.250000</td>\n",
       "      <td>317639.000000</td>\n",
       "      <td>NaN</td>\n",
       "      <td>NaN</td>\n",
       "      <td>-36.000000</td>\n",
       "      <td>540896.000000</td>\n",
       "      <td>60.000000</td>\n",
       "    </tr>\n",
       "    <tr>\n",
       "      <th>50%</th>\n",
       "      <td>550350.000000</td>\n",
       "      <td>368717.000000</td>\n",
       "      <td>NaN</td>\n",
       "      <td>NaN</td>\n",
       "      <td>9.000000</td>\n",
       "      <td>550567.000000</td>\n",
       "      <td>180.000000</td>\n",
       "    </tr>\n",
       "    <tr>\n",
       "      <th>75%</th>\n",
       "      <td>560468.500000</td>\n",
       "      <td>394928.000000</td>\n",
       "      <td>NaN</td>\n",
       "      <td>NaN</td>\n",
       "      <td>67.000000</td>\n",
       "      <td>560823.000000</td>\n",
       "      <td>540.000000</td>\n",
       "    </tr>\n",
       "    <tr>\n",
       "      <th>max</th>\n",
       "      <td>576401.000000</td>\n",
       "      <td>417675.000000</td>\n",
       "      <td>NaN</td>\n",
       "      <td>NaN</td>\n",
       "      <td>71084.000000</td>\n",
       "      <td>575053.000000</td>\n",
       "      <td>720.000000</td>\n",
       "    </tr>\n",
       "  </tbody>\n",
       "</table>\n",
       "</div>"
      ],
      "text/plain": [
       "            rental_id         car_id checkin_type  state   \n",
       "count    21310.000000   21310.000000        21310  21310  \\\n",
       "unique            NaN            NaN            2      2   \n",
       "top               NaN            NaN       mobile  ended   \n",
       "freq              NaN            NaN        17003  18045   \n",
       "mean    549712.880338  350030.603426          NaN    NaN   \n",
       "std      13863.446964   58206.249765          NaN    NaN   \n",
       "min     504806.000000  159250.000000          NaN    NaN   \n",
       "25%     540613.250000  317639.000000          NaN    NaN   \n",
       "50%     550350.000000  368717.000000          NaN    NaN   \n",
       "75%     560468.500000  394928.000000          NaN    NaN   \n",
       "max     576401.000000  417675.000000          NaN    NaN   \n",
       "\n",
       "        delay_at_checkout_in_minutes  previous_ended_rental_id   \n",
       "count                   16346.000000               1841.000000  \\\n",
       "unique                           NaN                       NaN   \n",
       "top                              NaN                       NaN   \n",
       "freq                             NaN                       NaN   \n",
       "mean                       59.701517             550127.411733   \n",
       "std                      1002.561635              13184.023111   \n",
       "min                    -22433.000000             505628.000000   \n",
       "25%                       -36.000000             540896.000000   \n",
       "50%                         9.000000             550567.000000   \n",
       "75%                        67.000000             560823.000000   \n",
       "max                     71084.000000             575053.000000   \n",
       "\n",
       "        time_delta_with_previous_rental_in_minutes  \n",
       "count                                  1841.000000  \n",
       "unique                                         NaN  \n",
       "top                                            NaN  \n",
       "freq                                           NaN  \n",
       "mean                                    279.288430  \n",
       "std                                     254.594486  \n",
       "min                                       0.000000  \n",
       "25%                                      60.000000  \n",
       "50%                                     180.000000  \n",
       "75%                                     540.000000  \n",
       "max                                     720.000000  "
      ]
     },
     "metadata": {},
     "output_type": "display_data"
    },
    {
     "name": "stdout",
     "output_type": "stream",
     "text": [
      "\n"
     ]
    },
    {
     "data": {
      "text/html": [
       "<div>\n",
       "<style scoped>\n",
       "    .dataframe tbody tr th:only-of-type {\n",
       "        vertical-align: middle;\n",
       "    }\n",
       "\n",
       "    .dataframe tbody tr th {\n",
       "        vertical-align: top;\n",
       "    }\n",
       "\n",
       "    .dataframe thead th {\n",
       "        text-align: right;\n",
       "    }\n",
       "</style>\n",
       "<table border=\"1\" class=\"dataframe\">\n",
       "  <thead>\n",
       "    <tr style=\"text-align: right;\">\n",
       "      <th></th>\n",
       "      <th>field name</th>\n",
       "      <th>Comment</th>\n",
       "    </tr>\n",
       "  </thead>\n",
       "  <tbody>\n",
       "    <tr>\n",
       "      <th>0</th>\n",
       "      <td>rental_id</td>\n",
       "      <td>Unique identifier of the rental</td>\n",
       "    </tr>\n",
       "    <tr>\n",
       "      <th>1</th>\n",
       "      <td>car_id</td>\n",
       "      <td>Unique identifier of the car</td>\n",
       "    </tr>\n",
       "    <tr>\n",
       "      <th>2</th>\n",
       "      <td>checkin_type</td>\n",
       "      <td>Flow used for both checkin and checkout. (ie. access and return the car)\\nmobile = rental agreement signed on the owner's smartphone\\nconnect = car equiped with the Connect technology , opened by the driver with his smartphone.\\nNote: paper contracts were excluded from the data as we have no data on their delay at checkout and it's negligible use case</td>\n",
       "    </tr>\n",
       "    <tr>\n",
       "      <th>3</th>\n",
       "      <td>state</td>\n",
       "      <td>canceled means that the rental did not happen (was canceled by the driver or the owner).</td>\n",
       "    </tr>\n",
       "    <tr>\n",
       "      <th>4</th>\n",
       "      <td>delay_at_checkout_in_minutes</td>\n",
       "      <td>Difference in minutes between the rental end time requested by the driver when booking the car and the actual time the driver completed the checkout. Negative values mean that the driver returned the car in advance.</td>\n",
       "    </tr>\n",
       "    <tr>\n",
       "      <th>5</th>\n",
       "      <td>previous_ended_rental_id</td>\n",
       "      <td>id of the previous ended rental of the car (NULL when no previous rental or delay with previous rental higher than 12 hours)</td>\n",
       "    </tr>\n",
       "    <tr>\n",
       "      <th>6</th>\n",
       "      <td>time_delta_with_previous_rental_in_minutes</td>\n",
       "      <td>Difference in minutes between this rental planned start time and the previous rental planned end time (when lower than 12 hours, NULL if higher)</td>\n",
       "    </tr>\n",
       "  </tbody>\n",
       "</table>\n",
       "</div>"
      ],
      "text/plain": [
       "                                   field name   \n",
       "0                                   rental_id  \\\n",
       "1                                      car_id   \n",
       "2                                checkin_type   \n",
       "3                                       state   \n",
       "4                delay_at_checkout_in_minutes   \n",
       "5                    previous_ended_rental_id   \n",
       "6  time_delta_with_previous_rental_in_minutes   \n",
       "\n",
       "                                                                                                                                                                                                                                                                                                                                                             Comment  \n",
       "0                                                                                                                                                                                                                                                                                                                                    Unique identifier of the rental  \n",
       "1                                                                                                                                                                                                                                                                                                                                       Unique identifier of the car  \n",
       "2  Flow used for both checkin and checkout. (ie. access and return the car)\\nmobile = rental agreement signed on the owner's smartphone\\nconnect = car equiped with the Connect technology , opened by the driver with his smartphone.\\nNote: paper contracts were excluded from the data as we have no data on their delay at checkout and it's negligible use case  \n",
       "3                                                                                                                                                                                                                                                                           canceled means that the rental did not happen (was canceled by the driver or the owner).  \n",
       "4                                                                                                                                            Difference in minutes between the rental end time requested by the driver when booking the car and the actual time the driver completed the checkout. Negative values mean that the driver returned the car in advance.  \n",
       "5                                                                                                                                                                                                                                       id of the previous ended rental of the car (NULL when no previous rental or delay with previous rental higher than 12 hours)  \n",
       "6                                                                                                                                                                                                                   Difference in minutes between this rental planned start time and the previous rental planned end time (when lower than 12 hours, NULL if higher)  "
      ]
     },
     "metadata": {},
     "output_type": "display_data"
    },
    {
     "name": "stdout",
     "output_type": "stream",
     "text": [
      "\n",
      "Percentage of missing values: \n"
     ]
    },
    {
     "data": {
      "text/html": [
       "<div>\n",
       "<style scoped>\n",
       "    .dataframe tbody tr th:only-of-type {\n",
       "        vertical-align: middle;\n",
       "    }\n",
       "\n",
       "    .dataframe tbody tr th {\n",
       "        vertical-align: top;\n",
       "    }\n",
       "\n",
       "    .dataframe thead th {\n",
       "        text-align: right;\n",
       "    }\n",
       "</style>\n",
       "<table border=\"1\" class=\"dataframe\">\n",
       "  <thead>\n",
       "    <tr style=\"text-align: right;\">\n",
       "      <th></th>\n",
       "      <th>Missing Records</th>\n",
       "      <th>Percentage (%)</th>\n",
       "    </tr>\n",
       "  </thead>\n",
       "  <tbody>\n",
       "    <tr>\n",
       "      <th>rental_id</th>\n",
       "      <td>0</td>\n",
       "      <td>0.000000</td>\n",
       "    </tr>\n",
       "    <tr>\n",
       "      <th>car_id</th>\n",
       "      <td>0</td>\n",
       "      <td>0.000000</td>\n",
       "    </tr>\n",
       "    <tr>\n",
       "      <th>checkin_type</th>\n",
       "      <td>0</td>\n",
       "      <td>0.000000</td>\n",
       "    </tr>\n",
       "    <tr>\n",
       "      <th>state</th>\n",
       "      <td>0</td>\n",
       "      <td>0.000000</td>\n",
       "    </tr>\n",
       "    <tr>\n",
       "      <th>delay_at_checkout_in_minutes</th>\n",
       "      <td>4964</td>\n",
       "      <td>23.294228</td>\n",
       "    </tr>\n",
       "    <tr>\n",
       "      <th>previous_ended_rental_id</th>\n",
       "      <td>19469</td>\n",
       "      <td>91.360863</td>\n",
       "    </tr>\n",
       "    <tr>\n",
       "      <th>time_delta_with_previous_rental_in_minutes</th>\n",
       "      <td>19469</td>\n",
       "      <td>91.360863</td>\n",
       "    </tr>\n",
       "  </tbody>\n",
       "</table>\n",
       "</div>"
      ],
      "text/plain": [
       "                                            Missing Records  Percentage (%)\n",
       "rental_id                                                 0        0.000000\n",
       "car_id                                                    0        0.000000\n",
       "checkin_type                                              0        0.000000\n",
       "state                                                     0        0.000000\n",
       "delay_at_checkout_in_minutes                           4964       23.294228\n",
       "previous_ended_rental_id                              19469       91.360863\n",
       "time_delta_with_previous_rental_in_minutes            19469       91.360863"
      ]
     },
     "execution_count": 58,
     "metadata": {},
     "output_type": "execute_result"
    }
   ],
   "source": [
    "# Basic stats\n",
    "print('Basics informations for delay_df')\n",
    "print()\n",
    "print(\"Number of rows : {}\".format(delay_df.shape[0]))\n",
    "print(\"Number of columns : {}\".format(delay_df.shape[1]))\n",
    "print()\n",
    "\n",
    "print(\"Display of dataset: \")\n",
    "display(delay_df.head())\n",
    "print()\n",
    "\n",
    "print(\"Basics statistics: \")\n",
    "data_desc = delay_df.describe(include='all')\n",
    "display(data_desc)\n",
    "print()\n",
    "with pd.option_context('display.max_colwidth', None):\n",
    "    display(docu)\n",
    "    print()\n",
    "\n",
    "print(\"Percentage of missing values: \")\n",
    "\n",
    "pd.concat([delay_df.isnull().sum(), 100 * delay_df.isnull().sum()/len(delay_df)], axis=1).rename(columns={0:'Missing Records', 1:'Percentage (%)'})\n"
   ]
  },
  {
   "cell_type": "code",
   "execution_count": 59,
   "metadata": {},
   "outputs": [],
   "source": [
    "cols_cat  = [ 'car_id', 'checkin_type',\n",
    "             'state' ]\n",
    "\n",
    "cols_num = ['time_delta_with_previous_rental_in_minutes',\n",
    "            'delay_at_checkout_in_minutes']"
   ]
  },
  {
   "attachments": {},
   "cell_type": "markdown",
   "metadata": {},
   "source": [
    "On va creer une nouvelle feature 'checkout' pour regrouper les retards"
   ]
  },
  {
   "cell_type": "code",
   "execution_count": 60,
   "metadata": {},
   "outputs": [],
   "source": [
    "delay_df['checkout'] = pd.cut(delay_df['delay_at_checkout_in_minutes'],\n",
    "                              bins=[-np.inf, 0, 15, 30, 60, 120, np.inf],\n",
    "                              labels=['Early', 'Late 0-15 mins', 'Late 15-30 mins', 'Late 30-60 mins', 'Late 1-2 hours', 'Late > 2 hours'],\n",
    "                              right=False,\n",
    "                              include_lowest=True)\n"
   ]
  },
  {
   "cell_type": "code",
   "execution_count": 61,
   "metadata": {},
   "outputs": [
    {
     "data": {
      "image/png": "[encoded data removed]",
      "text/plain": [
       "<Figure size 1000x600 with 1 Axes>"
      ]
     },
     "metadata": {},
     "output_type": "display_data"
    }
   ],
   "source": [
    "plt.figure(figsize=(10,6))\n",
    "sns.boxenplot(data=delay_df[delay_df['checkout']!='Early'], x='delay_at_checkout_in_minutes',scale='linear')\n",
    "plt.show()"
   ]
  },
  {
   "attachments": {},
   "cell_type": "markdown",
   "metadata": {},
   "source": [
    "Nous constatons que nous avaons des valeurs erronées ou aberrantes avec comme valeur max = 71084 minutes. Nous allons essayer de traiter ces outliers en les remplaçants par des valeurs manquantes NaN."
   ]
  },
  {
   "cell_type": "code",
   "execution_count": 62,
   "metadata": {},
   "outputs": [],
   "source": [
    "delayed = []\n",
    "for x in delay_df['delay_at_checkout_in_minutes']:\n",
    "    if x < delay_df['delay_at_checkout_in_minutes'].quantile(0.01):\n",
    "        delayed.append(np.nan)\n",
    "    elif x > delay_df['delay_at_checkout_in_minutes'].quantile(0.99):\n",
    "        delayed.append(np.nan)     \n",
    "    else:\n",
    "        delayed.append(x)\n",
    "\n",
    "delay_df['delays_checkout_min_clean'] = delayed"
   ]
  },
  {
   "cell_type": "code",
   "execution_count": 63,
   "metadata": {},
   "outputs": [
    {
     "name": "stdout",
     "output_type": "stream",
     "text": [
      "Basics statistics: \n"
     ]
    },
    {
     "data": {
      "text/html": [
       "<div>\n",
       "<style scoped>\n",
       "    .dataframe tbody tr th:only-of-type {\n",
       "        vertical-align: middle;\n",
       "    }\n",
       "\n",
       "    .dataframe tbody tr th {\n",
       "        vertical-align: top;\n",
       "    }\n",
       "\n",
       "    .dataframe thead th {\n",
       "        text-align: right;\n",
       "    }\n",
       "</style>\n",
       "<table border=\"1\" class=\"dataframe\">\n",
       "  <thead>\n",
       "    <tr style=\"text-align: right;\">\n",
       "      <th></th>\n",
       "      <th>rental_id</th>\n",
       "      <th>car_id</th>\n",
       "      <th>checkin_type</th>\n",
       "      <th>state</th>\n",
       "      <th>delay_at_checkout_in_minutes</th>\n",
       "      <th>previous_ended_rental_id</th>\n",
       "      <th>time_delta_with_previous_rental_in_minutes</th>\n",
       "      <th>checkout</th>\n",
       "      <th>delays_checkout_min_clean</th>\n",
       "    </tr>\n",
       "  </thead>\n",
       "  <tbody>\n",
       "    <tr>\n",
       "      <th>count</th>\n",
       "      <td>21310.000000</td>\n",
       "      <td>21310.000000</td>\n",
       "      <td>21310</td>\n",
       "      <td>21310</td>\n",
       "      <td>16346.000000</td>\n",
       "      <td>1841.000000</td>\n",
       "      <td>1841.000000</td>\n",
       "      <td>16346</td>\n",
       "      <td>16019.000000</td>\n",
       "    </tr>\n",
       "    <tr>\n",
       "      <th>unique</th>\n",
       "      <td>NaN</td>\n",
       "      <td>NaN</td>\n",
       "      <td>2</td>\n",
       "      <td>2</td>\n",
       "      <td>NaN</td>\n",
       "      <td>NaN</td>\n",
       "      <td>NaN</td>\n",
       "      <td>6</td>\n",
       "      <td>NaN</td>\n",
       "    </tr>\n",
       "    <tr>\n",
       "      <th>top</th>\n",
       "      <td>NaN</td>\n",
       "      <td>NaN</td>\n",
       "      <td>mobile</td>\n",
       "      <td>ended</td>\n",
       "      <td>NaN</td>\n",
       "      <td>NaN</td>\n",
       "      <td>NaN</td>\n",
       "      <td>Early</td>\n",
       "      <td>NaN</td>\n",
       "    </tr>\n",
       "    <tr>\n",
       "      <th>freq</th>\n",
       "      <td>NaN</td>\n",
       "      <td>NaN</td>\n",
       "      <td>17003</td>\n",
       "      <td>18045</td>\n",
       "      <td>NaN</td>\n",
       "      <td>NaN</td>\n",
       "      <td>NaN</td>\n",
       "      <td>6820</td>\n",
       "      <td>NaN</td>\n",
       "    </tr>\n",
       "    <tr>\n",
       "      <th>mean</th>\n",
       "      <td>549712.880338</td>\n",
       "      <td>350030.603426</td>\n",
       "      <td>NaN</td>\n",
       "      <td>NaN</td>\n",
       "      <td>59.701517</td>\n",
       "      <td>550127.411733</td>\n",
       "      <td>279.288430</td>\n",
       "      <td>NaN</td>\n",
       "      <td>31.599600</td>\n",
       "    </tr>\n",
       "    <tr>\n",
       "      <th>std</th>\n",
       "      <td>13863.446964</td>\n",
       "      <td>58206.249765</td>\n",
       "      <td>NaN</td>\n",
       "      <td>NaN</td>\n",
       "      <td>1002.561635</td>\n",
       "      <td>13184.023111</td>\n",
       "      <td>254.594486</td>\n",
       "      <td>NaN</td>\n",
       "      <td>215.203776</td>\n",
       "    </tr>\n",
       "    <tr>\n",
       "      <th>min</th>\n",
       "      <td>504806.000000</td>\n",
       "      <td>159250.000000</td>\n",
       "      <td>NaN</td>\n",
       "      <td>NaN</td>\n",
       "      <td>-22433.000000</td>\n",
       "      <td>505628.000000</td>\n",
       "      <td>0.000000</td>\n",
       "      <td>NaN</td>\n",
       "      <td>-853.000000</td>\n",
       "    </tr>\n",
       "    <tr>\n",
       "      <th>25%</th>\n",
       "      <td>540613.250000</td>\n",
       "      <td>317639.000000</td>\n",
       "      <td>NaN</td>\n",
       "      <td>NaN</td>\n",
       "      <td>-36.000000</td>\n",
       "      <td>540896.000000</td>\n",
       "      <td>60.000000</td>\n",
       "      <td>NaN</td>\n",
       "      <td>-35.000000</td>\n",
       "    </tr>\n",
       "    <tr>\n",
       "      <th>50%</th>\n",
       "      <td>550350.000000</td>\n",
       "      <td>368717.000000</td>\n",
       "      <td>NaN</td>\n",
       "      <td>NaN</td>\n",
       "      <td>9.000000</td>\n",
       "      <td>550567.000000</td>\n",
       "      <td>180.000000</td>\n",
       "      <td>NaN</td>\n",
       "      <td>9.000000</td>\n",
       "    </tr>\n",
       "    <tr>\n",
       "      <th>75%</th>\n",
       "      <td>560468.500000</td>\n",
       "      <td>394928.000000</td>\n",
       "      <td>NaN</td>\n",
       "      <td>NaN</td>\n",
       "      <td>67.000000</td>\n",
       "      <td>560823.000000</td>\n",
       "      <td>540.000000</td>\n",
       "      <td>NaN</td>\n",
       "      <td>65.000000</td>\n",
       "    </tr>\n",
       "    <tr>\n",
       "      <th>max</th>\n",
       "      <td>576401.000000</td>\n",
       "      <td>417675.000000</td>\n",
       "      <td>NaN</td>\n",
       "      <td>NaN</td>\n",
       "      <td>71084.000000</td>\n",
       "      <td>575053.000000</td>\n",
       "      <td>720.000000</td>\n",
       "      <td>NaN</td>\n",
       "      <td>1490.000000</td>\n",
       "    </tr>\n",
       "  </tbody>\n",
       "</table>\n",
       "</div>"
      ],
      "text/plain": [
       "            rental_id         car_id checkin_type  state   \n",
       "count    21310.000000   21310.000000        21310  21310  \\\n",
       "unique            NaN            NaN            2      2   \n",
       "top               NaN            NaN       mobile  ended   \n",
       "freq              NaN            NaN        17003  18045   \n",
       "mean    549712.880338  350030.603426          NaN    NaN   \n",
       "std      13863.446964   58206.249765          NaN    NaN   \n",
       "min     504806.000000  159250.000000          NaN    NaN   \n",
       "25%     540613.250000  317639.000000          NaN    NaN   \n",
       "50%     550350.000000  368717.000000          NaN    NaN   \n",
       "75%     560468.500000  394928.000000          NaN    NaN   \n",
       "max     576401.000000  417675.000000          NaN    NaN   \n",
       "\n",
       "        delay_at_checkout_in_minutes  previous_ended_rental_id   \n",
       "count                   16346.000000               1841.000000  \\\n",
       "unique                           NaN                       NaN   \n",
       "top                              NaN                       NaN   \n",
       "freq                             NaN                       NaN   \n",
       "mean                       59.701517             550127.411733   \n",
       "std                      1002.561635              13184.023111   \n",
       "min                    -22433.000000             505628.000000   \n",
       "25%                       -36.000000             540896.000000   \n",
       "50%                         9.000000             550567.000000   \n",
       "75%                        67.000000             560823.000000   \n",
       "max                     71084.000000             575053.000000   \n",
       "\n",
       "        time_delta_with_previous_rental_in_minutes checkout   \n",
       "count                                  1841.000000    16346  \\\n",
       "unique                                         NaN        6   \n",
       "top                                            NaN    Early   \n",
       "freq                                           NaN     6820   \n",
       "mean                                    279.288430      NaN   \n",
       "std                                     254.594486      NaN   \n",
       "min                                       0.000000      NaN   \n",
       "25%                                      60.000000      NaN   \n",
       "50%                                     180.000000      NaN   \n",
       "75%                                     540.000000      NaN   \n",
       "max                                     720.000000      NaN   \n",
       "\n",
       "        delays_checkout_min_clean  \n",
       "count                16019.000000  \n",
       "unique                        NaN  \n",
       "top                           NaN  \n",
       "freq                          NaN  \n",
       "mean                    31.599600  \n",
       "std                    215.203776  \n",
       "min                   -853.000000  \n",
       "25%                    -35.000000  \n",
       "50%                      9.000000  \n",
       "75%                     65.000000  \n",
       "max                   1490.000000  "
      ]
     },
     "metadata": {},
     "output_type": "display_data"
    },
    {
     "name": "stdout",
     "output_type": "stream",
     "text": [
      "\n"
     ]
    },
    {
     "data": {
      "text/html": [
       "<div>\n",
       "<style scoped>\n",
       "    .dataframe tbody tr th:only-of-type {\n",
       "        vertical-align: middle;\n",
       "    }\n",
       "\n",
       "    .dataframe tbody tr th {\n",
       "        vertical-align: top;\n",
       "    }\n",
       "\n",
       "    .dataframe thead th {\n",
       "        text-align: right;\n",
       "    }\n",
       "</style>\n",
       "<table border=\"1\" class=\"dataframe\">\n",
       "  <thead>\n",
       "    <tr style=\"text-align: right;\">\n",
       "      <th></th>\n",
       "      <th>field name</th>\n",
       "      <th>Comment</th>\n",
       "    </tr>\n",
       "  </thead>\n",
       "  <tbody>\n",
       "    <tr>\n",
       "      <th>0</th>\n",
       "      <td>rental_id</td>\n",
       "      <td>Unique identifier of the rental</td>\n",
       "    </tr>\n",
       "    <tr>\n",
       "      <th>1</th>\n",
       "      <td>car_id</td>\n",
       "      <td>Unique identifier of the car</td>\n",
       "    </tr>\n",
       "    <tr>\n",
       "      <th>2</th>\n",
       "      <td>checkin_type</td>\n",
       "      <td>Flow used for both checkin and checkout. (ie. access and return the car)\\nmobile = rental agreement signed on the owner's smartphone\\nconnect = car equiped with the Connect technology , opened by the driver with his smartphone.\\nNote: paper contracts were excluded from the data as we have no data on their delay at checkout and it's negligible use case</td>\n",
       "    </tr>\n",
       "    <tr>\n",
       "      <th>3</th>\n",
       "      <td>state</td>\n",
       "      <td>canceled means that the rental did not happen (was canceled by the driver or the owner).</td>\n",
       "    </tr>\n",
       "    <tr>\n",
       "      <th>4</th>\n",
       "      <td>delay_at_checkout_in_minutes</td>\n",
       "      <td>Difference in minutes between the rental end time requested by the driver when booking the car and the actual time the driver completed the checkout. Negative values mean that the driver returned the car in advance.</td>\n",
       "    </tr>\n",
       "    <tr>\n",
       "      <th>5</th>\n",
       "      <td>previous_ended_rental_id</td>\n",
       "      <td>id of the previous ended rental of the car (NULL when no previous rental or delay with previous rental higher than 12 hours)</td>\n",
       "    </tr>\n",
       "    <tr>\n",
       "      <th>6</th>\n",
       "      <td>time_delta_with_previous_rental_in_minutes</td>\n",
       "      <td>Difference in minutes between this rental planned start time and the previous rental planned end time (when lower than 12 hours, NULL if higher)</td>\n",
       "    </tr>\n",
       "  </tbody>\n",
       "</table>\n",
       "</div>"
      ],
      "text/plain": [
       "                                   field name   \n",
       "0                                   rental_id  \\\n",
       "1                                      car_id   \n",
       "2                                checkin_type   \n",
       "3                                       state   \n",
       "4                delay_at_checkout_in_minutes   \n",
       "5                    previous_ended_rental_id   \n",
       "6  time_delta_with_previous_rental_in_minutes   \n",
       "\n",
       "                                                                                                                                                                                                                                                                                                                                                             Comment  \n",
       "0                                                                                                                                                                                                                                                                                                                                    Unique identifier of the rental  \n",
       "1                                                                                                                                                                                                                                                                                                                                       Unique identifier of the car  \n",
       "2  Flow used for both checkin and checkout. (ie. access and return the car)\\nmobile = rental agreement signed on the owner's smartphone\\nconnect = car equiped with the Connect technology , opened by the driver with his smartphone.\\nNote: paper contracts were excluded from the data as we have no data on their delay at checkout and it's negligible use case  \n",
       "3                                                                                                                                                                                                                                                                           canceled means that the rental did not happen (was canceled by the driver or the owner).  \n",
       "4                                                                                                                                            Difference in minutes between the rental end time requested by the driver when booking the car and the actual time the driver completed the checkout. Negative values mean that the driver returned the car in advance.  \n",
       "5                                                                                                                                                                                                                                       id of the previous ended rental of the car (NULL when no previous rental or delay with previous rental higher than 12 hours)  \n",
       "6                                                                                                                                                                                                                   Difference in minutes between this rental planned start time and the previous rental planned end time (when lower than 12 hours, NULL if higher)  "
      ]
     },
     "metadata": {},
     "output_type": "display_data"
    },
    {
     "name": "stdout",
     "output_type": "stream",
     "text": [
      "\n",
      "Percentage of missing values: \n"
     ]
    },
    {
     "data": {
      "text/html": [
       "<div>\n",
       "<style scoped>\n",
       "    .dataframe tbody tr th:only-of-type {\n",
       "        vertical-align: middle;\n",
       "    }\n",
       "\n",
       "    .dataframe tbody tr th {\n",
       "        vertical-align: top;\n",
       "    }\n",
       "\n",
       "    .dataframe thead th {\n",
       "        text-align: right;\n",
       "    }\n",
       "</style>\n",
       "<table border=\"1\" class=\"dataframe\">\n",
       "  <thead>\n",
       "    <tr style=\"text-align: right;\">\n",
       "      <th></th>\n",
       "      <th>Missing Records</th>\n",
       "      <th>Percentage (%)</th>\n",
       "    </tr>\n",
       "  </thead>\n",
       "  <tbody>\n",
       "    <tr>\n",
       "      <th>rental_id</th>\n",
       "      <td>0</td>\n",
       "      <td>0.000000</td>\n",
       "    </tr>\n",
       "    <tr>\n",
       "      <th>car_id</th>\n",
       "      <td>0</td>\n",
       "      <td>0.000000</td>\n",
       "    </tr>\n",
       "    <tr>\n",
       "      <th>checkin_type</th>\n",
       "      <td>0</td>\n",
       "      <td>0.000000</td>\n",
       "    </tr>\n",
       "    <tr>\n",
       "      <th>state</th>\n",
       "      <td>0</td>\n",
       "      <td>0.000000</td>\n",
       "    </tr>\n",
       "    <tr>\n",
       "      <th>delay_at_checkout_in_minutes</th>\n",
       "      <td>4964</td>\n",
       "      <td>23.294228</td>\n",
       "    </tr>\n",
       "    <tr>\n",
       "      <th>previous_ended_rental_id</th>\n",
       "      <td>19469</td>\n",
       "      <td>91.360863</td>\n",
       "    </tr>\n",
       "    <tr>\n",
       "      <th>time_delta_with_previous_rental_in_minutes</th>\n",
       "      <td>19469</td>\n",
       "      <td>91.360863</td>\n",
       "    </tr>\n",
       "    <tr>\n",
       "      <th>checkout</th>\n",
       "      <td>4964</td>\n",
       "      <td>23.294228</td>\n",
       "    </tr>\n",
       "    <tr>\n",
       "      <th>delays_checkout_min_clean</th>\n",
       "      <td>5291</td>\n",
       "      <td>24.828719</td>\n",
       "    </tr>\n",
       "  </tbody>\n",
       "</table>\n",
       "</div>"
      ],
      "text/plain": [
       "                                            Missing Records  Percentage (%)\n",
       "rental_id                                                 0        0.000000\n",
       "car_id                                                    0        0.000000\n",
       "checkin_type                                              0        0.000000\n",
       "state                                                     0        0.000000\n",
       "delay_at_checkout_in_minutes                           4964       23.294228\n",
       "previous_ended_rental_id                              19469       91.360863\n",
       "time_delta_with_previous_rental_in_minutes            19469       91.360863\n",
       "checkout                                               4964       23.294228\n",
       "delays_checkout_min_clean                              5291       24.828719"
      ]
     },
     "execution_count": 63,
     "metadata": {},
     "output_type": "execute_result"
    }
   ],
   "source": [
    "print(\"Basics statistics: \")\n",
    "data_desc = delay_df.describe(include='all')\n",
    "display(data_desc)\n",
    "print()\n",
    "with pd.option_context('display.max_colwidth', None):\n",
    "    display(docu)\n",
    "    print()\n",
    "\n",
    "print(\"Percentage of missing values: \")\n",
    "\n",
    "pd.concat([delay_df.isnull().sum(), 100 * delay_df.isnull().sum()/len(delay_df)], axis=1).rename(columns={0:'Missing Records', 1:'Percentage (%)'})"
   ]
  },
  {
   "cell_type": "code",
   "execution_count": 64,
   "metadata": {},
   "outputs": [
    {
     "name": "stdout",
     "output_type": "stream",
     "text": [
      "checkout\n",
      "Early              6820\n",
      "Late > 2 hours     2568\n",
      "Late 0-15 mins     2003\n",
      "Late 1-2 hours     1860\n",
      "Late 30-60 mins    1722\n",
      "Late 15-30 mins    1373\n",
      "Name: count, dtype: int64\n"
     ]
    }
   ],
   "source": [
    "print(delay_df['checkout'].value_counts())"
   ]
  },
  {
   "cell_type": "code",
   "execution_count": 65,
   "metadata": {},
   "outputs": [
    {
     "data": {
      "image/png": "[encoded data removed]",
      "text/plain": [
       "<Figure size 1000x600 with 1 Axes>"
      ]
     },
     "metadata": {},
     "output_type": "display_data"
    }
   ],
   "source": [
    "checkout_clean = delay_df.dropna(subset=['delay_at_checkout_in_minutes'])\n",
    "checktype_checkout = checkout_clean.groupby(['checkin_type','checkout']).size().reset_index(name='count')\n",
    "checktype_checkout['percentage'] = [i / checktype_checkout['count'].sum() * 100 for i in checktype_checkout['count']]\n",
    "\n",
    "plt.figure(figsize=(10,6))\n",
    "sns.barplot(y=checktype_checkout['percentage'],x=checktype_checkout['checkin_type'], hue=checktype_checkout['checkout'],orient='vertical')\n",
    "plt.show()"
   ]
  },
  {
   "attachments": {},
   "cell_type": "markdown",
   "metadata": {},
   "source": [
    "La majorité des départs en retard sont toujours dans les 2 prochaines heures, nous pourrons donc probablement reduire les risques de retard de location en fixant un seuil.\n",
    "\n",
    "Le type de checkin mobile est plus fréquent."
   ]
  },
  {
   "cell_type": "code",
   "execution_count": 66,
   "metadata": {},
   "outputs": [],
   "source": [
    "delay_df['next_rental'] = [True if x > 0 else False for x in delay_df.previous_ended_rental_id]"
   ]
  },
  {
   "cell_type": "code",
   "execution_count": 67,
   "metadata": {},
   "outputs": [
    {
     "data": {
      "image/png": "[encoded data removed]",
      "text/plain": [
       "<Figure size 1000x600 with 1 Axes>"
      ]
     },
     "metadata": {},
     "output_type": "display_data"
    }
   ],
   "source": [
    "has_next = delay_df.groupby(['checkin_type','next_rental']).size().reset_index(name='count')\n",
    "has_next['Percentage'] = [i / has_next['count'].sum() * 100 for i in has_next['count']]\n",
    "\n",
    "plt.figure(figsize=(10,6))\n",
    "sns.barplot(y=has_next['Percentage'],x=has_next['checkin_type'], hue=has_next['next_rental'],orient='vertical')\n",
    "plt.show()"
   ]
  },
  {
   "cell_type": "code",
   "execution_count": 68,
   "metadata": {},
   "outputs": [
    {
     "name": "stdout",
     "output_type": "stream",
     "text": [
      "Le checking par Mobile est plus utilisé avec 79.79% de pourcentage alors le checking par Connect a 20.21% de pourcentage d'utilisation.        On note que 24% des annulations concernent Connect, ce qui suggère un impact plus important des annulations sur ce type ce type de location.\n"
     ]
    }
   ],
   "source": [
    "connect_share = (delay_df['checkin_type'].value_counts()/delay_df['checkin_type'].count()*100)[1]\n",
    "mobile_share = (delay_df['checkin_type'].value_counts()/delay_df['checkin_type'].count()*100)[0]\n",
    "connect_canceled = (delay_df[delay_df['state']=='canceled']['checkin_type'].value_counts()/delay_df[delay_df['state']=='canceled']['checkin_type'].count()*100)[1]\n",
    "\n",
    "print(f\"Le checking par Mobile est plus utilisé avec {round(mobile_share,2)}% de pourcentage alors le checking par Connect a {round(connect_share,2)}% de pourcentage d'utilisation. \\n On note que {round(connect_canceled)}% des annulations concernent Connect, ce qui suggère un impact plus important des annulations sur ce type ce type de location.\")"
   ]
  },
  {
   "cell_type": "code",
   "execution_count": 69,
   "metadata": {},
   "outputs": [
    {
     "data": {
      "image/png": "[encoded data removed]",
      "text/plain": [
       "<Figure size 1000x600 with 1 Axes>"
      ]
     },
     "metadata": {},
     "output_type": "display_data"
    }
   ],
   "source": [
    "plt.figure(figsize=(10,6))\n",
    "sns.histplot(data=delay_df,x='delays_checkout_min_clean')\n",
    "plt.show()"
   ]
  },
  {
   "attachments": {},
   "cell_type": "markdown",
   "metadata": {},
   "source": [
    "Nous constatons toujours assez de outiliers."
   ]
  },
  {
   "cell_type": "code",
   "execution_count": 70,
   "metadata": {},
   "outputs": [
    {
     "name": "stdout",
     "output_type": "stream",
     "text": [
      "En moyenne, 43.36 % des conducteurs sont en rate, soit 9240 conducteurs sur 21310.\n"
     ]
    }
   ],
   "source": [
    "overdue_df = delay_df[delay_df['delays_checkout_min_clean']>0]\n",
    "\n",
    "drivers_overdue = len(overdue_df)\n",
    "drivers_total = len(delay_df)\n",
    "percentage_drivers_late = drivers_overdue/drivers_total*100\n",
    "percentage_drivers_late\n",
    "print(f\"En moyenne, {round(percentage_drivers_late,2)} % des réservations sont en retard, soit {drivers_overdue} réservations sur {drivers_total}.\")"
   ]
  },
  {
   "cell_type": "code",
   "execution_count": 71,
   "metadata": {},
   "outputs": [
    {
     "name": "stdout",
     "output_type": "stream",
     "text": [
      "La moyenne de reatrd des conducteurs est de 124.32 minutes.\n"
     ]
    }
   ],
   "source": [
    "time_overdue = overdue_df['delays_checkout_min_clean'].sum()/len(overdue_df)\n",
    "print(f\"La moyenne de retard sur les réservations est de {round(time_overdue,2)} minutes.\")"
   ]
  },
  {
   "attachments": {},
   "cell_type": "markdown",
   "metadata": {},
   "source": [
    "Verifiions le par le graphique suivant:"
   ]
  },
  {
   "cell_type": "code",
   "execution_count": 72,
   "metadata": {},
   "outputs": [
    {
     "data": {
      "image/png": "[encoded data removed]",
      "text/plain": [
       "<Figure size 640x480 with 1 Axes>"
      ]
     },
     "metadata": {},
     "output_type": "display_data"
    }
   ],
   "source": [
    "sns.histplot(data=overdue_df, x=\"delays_checkout_min_clean\", hue=\"checkin_type\", element=\"poly\", bins=np.arange(0, 60*12, step=15)) ## (60*12) for 12 hours\n",
    "plt.show()"
   ]
  },
  {
   "attachments": {},
   "cell_type": "markdown",
   "metadata": {},
   "source": [
    "### Quelles sont les pertes entrainées par ces retards ?"
   ]
  },
  {
   "cell_type": "code",
   "execution_count": 92,
   "metadata": {},
   "outputs": [],
   "source": [
    "overdue_df_connect = overdue_df[overdue_df[\"checkin_type\"] == \"connect\"]\n",
    "overdue_df_mobile = overdue_df[overdue_df[\"checkin_type\"] == \"mobile\"]\n",
    "overdue_median_connect = np.median(overdue_df_connect[\"delays_checkout_min_clean\"])\n",
    "overdue_median_mobile = np.median(overdue_df_mobile[\"delays_checkout_min_clean\"])"
   ]
  },
  {
   "attachments": {},
   "cell_type": "markdown",
   "metadata": {},
   "source": [
    "### Reservations annulées"
   ]
  },
  {
   "cell_type": "code",
   "execution_count": 103,
   "metadata": {},
   "outputs": [
    {
     "name": "stdout",
     "output_type": "stream",
     "text": [
      "En supposant une moyenne de location de 24 heures et en prenant une durée moyenne de location de 24h, les 3265 annulations ont engrangé 388535.0$ de perte.\n",
      "En supposant bien sûr que ces annulations sont exclusivement liées aux rétards de précedentes réservations.\n"
     ]
    }
   ],
   "source": [
    "canceled = (delay_df['state'] == 'canceled').sum()\n",
    "median_rental = pricing_df['rental_price_per_day'].median()\n",
    "canceled_loss = canceled*median_rental \n",
    "\n",
    "print(f\"En supposant une moyenne de location de 24 heures et en prenant une durée moyenne de location de 24h, les {canceled} annulations ont engrangé {canceled_loss}$ de perte.\")\n",
    "print(\"En supposant bien sûr que ces annulations sont exclusivement liées aux rétards de précedentes réservations.\")"
   ]
  },
  {
   "attachments": {},
   "cell_type": "markdown",
   "metadata": {},
   "source": [
    "### Avec le checkin Connect"
   ]
  },
  {
   "cell_type": "code",
   "execution_count": 98,
   "metadata": {},
   "outputs": [
    {
     "name": "stdout",
     "output_type": "stream",
     "text": [
      "1459 réservations sont impactées par les retards avec le mode Connect.\n",
      "Le retard est d'environ : 41.0 minutes\n",
      "Sachant que la prix moyen de location d'une voiture est d'environ : 119.0$ par jour, on tourne autour de : 0.083$/min.\n",
      "L'entreprise perdrait donc environ 3.388$/retard, ce qui répresente 4943.38$ pour les 1459 retards.\n"
     ]
    }
   ],
   "source": [
    "nb_overdues = len(overdue_df_connect)\n",
    "print(f\"{nb_overdues} réservations sont impactées par les retards avec le mode Connect.\")\n",
    "overdue_median_connect = np.median(overdue_df_connect[\"delays_checkout_min_clean\"])\n",
    "print(f\"Le retard est d'environ : {overdue_median_connect} minutes\")\n",
    "med_price_rent_by_day = np.median(pricing_df[\"rental_price_per_day\"]) ## price by day\n",
    "avg_price_rent_by_min = med_price_rent_by_day / 1440  # 1440 represente le nombre de minutes par jour.\n",
    "print(f\"Sachant que la prix moyen de location d'une voiture est d'environ : {round(med_price_rent_by_day,2)}$ par jour, on tourne autour de : {round(avg_price_rent_by_min, 3)}$/min.\")\n",
    "lost_cash = avg_price_rent_by_min * overdue_median_connect\n",
    "print(f\"L'entreprise perdrait donc environ {round(lost_cash, 3)}$/retard, ce qui répresente {round((lost_cash * nb_overdues), 2)}$ pour les {nb_overdues} retards.\")"
   ]
  },
  {
   "attachments": {},
   "cell_type": "markdown",
   "metadata": {},
   "source": [
    "### Avec le checkin Mobile"
   ]
  },
  {
   "cell_type": "code",
   "execution_count": 99,
   "metadata": {},
   "outputs": [
    {
     "name": "stdout",
     "output_type": "stream",
     "text": [
      "7781 réservations sont impactées par les retards avec le mode Connect.\n",
      "Le retard est d'environ : 54.0 minutes\n",
      "Sachant que la prix moyen de location d'une voiture est d'environ : 119.0$ par jour, on tourne autour de : 0.083$/min.\n",
      "L'entreprise perdrait donc environ 4.462$/retard, ce qui répresente 34722.71$ pour les 7781 retards.\n"
     ]
    }
   ],
   "source": [
    "nb_overdues = len(overdue_df_mobile)\n",
    "print(f\"{nb_overdues} réservations sont impactées par les retards avec le mode Mobile.\")\n",
    "overdue_median_mobile = np.median(overdue_df_mobile[\"delays_checkout_min_clean\"])\n",
    "print(f\"Le retard est d'environ : {overdue_median_mobile} minutes\")\n",
    "med_price_rent_by_day = np.median(pricing_df[\"rental_price_per_day\"]) ## price by day\n",
    "avg_price_rent_by_min = med_price_rent_by_day / 1440  # 1440 represente le nombre de minutes par jour.\n",
    "print(f\"Sachant que la prix moyen de location d'une voiture est d'environ : {round(med_price_rent_by_day,2)}$ par jour, on tourne autour de : {round(avg_price_rent_by_min, 3)}$/min.\")\n",
    "lost_cash = avg_price_rent_by_min * overdue_median_mobile\n",
    "print(f\"L'entreprise perdrait donc environ {round(lost_cash, 3)}$/retard, ce qui répresente {round((lost_cash * nb_overdues), 2)}$ pour les {nb_overdues} retards.\")"
   ]
  },
  {
   "attachments": {},
   "cell_type": "markdown",
   "metadata": {},
   "source": [
    "Avec ces resultats , nous constatons que l'entreprise perd beaucoup plus d'argent avec le checkin Mobile et surtotu que les annulations entrainent également de grosses pertes."
   ]
  }
 ],
 "metadata": {
  "kernelspec": {
   "display_name": "venv",
   "language": "python",
   "name": "python3"
  },
  "language_info": {
   "codemirror_mode": {
    "name": "ipython",
    "version": 3
   },
   "file_extension": ".py",
   "mimetype": "text/x-python",
   "name": "python",
   "nbconvert_exporter": "python",
   "pygments_lexer": "ipython3",
   "version": "3.10.10"
  },
  "orig_nbformat": 4
 },
 "nbformat": 4,
 "nbformat_minor": 2
}
